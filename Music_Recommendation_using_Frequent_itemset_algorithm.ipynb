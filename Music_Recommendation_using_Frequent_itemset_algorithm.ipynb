{
  "nbformat": 4,
  "nbformat_minor": 0,
  "metadata": {
    "colab": {
      "provenance": [],
      "include_colab_link": true
    },
    "kernelspec": {
      "name": "python3",
      "display_name": "Python 3"
    },
    "language_info": {
      "name": "python"
    }
  },
  "cells": [
    {
      "cell_type": "markdown",
      "metadata": {
        "id": "view-in-github",
        "colab_type": "text"
      },
      "source": [
        "<a href=\"https://colab.research.google.com/github/oawonuga92/Music-Recommendation-Using-FP-Growth-algortihm/blob/main/Music_Recommendation_using_Frequent_itemset_algorithm.ipynb\" target=\"_parent\"><img src=\"https://colab.research.google.com/assets/colab-badge.svg\" alt=\"Open In Colab\"/></a>"
      ]
    },
    {
      "cell_type": "markdown",
      "source": [
        "**You will write your code in this worksheet**\n",
        "\n",
        "**YOUR CODE WILL BE CHECKED FOR PLAGIARISM**"
      ],
      "metadata": {
        "id": "o1CSkbCZTuqq"
      }
    },
    {
      "cell_type": "markdown",
      "source": [
        "**Initial Setup**\n",
        "\n",
        "1. First, you will setup your CoLab environment.\n",
        "\n",
        "2. Then, you will authenticate a Google Drive client to download the file we will be processing in our Spark job.\n",
        "Make sure to follow the interactive instructions.\n",
        "\n",
        "3. Then, you will download the dataset `lastfm.csv` and store it in your drive.\n",
        "Check the panel in your left to note if the dataset has downloaded correctly under the \"Files\" tab."
      ],
      "metadata": {
        "id": "rLW3cVbxUe95"
      }
    },
    {
      "cell_type": "markdown",
      "source": [
        "** **"
      ],
      "metadata": {
        "id": "vznjqY0uStm_"
      }
    },
    {
      "cell_type": "markdown",
      "source": [
        "### **PROJECT TITLE : Applying Frequent Itemset Pattern Mining Algorithm for Music Recommendation based on user music listening behaviour**\n",
        "\n",
        "**Dataset: LastFm music listening history data**"
      ],
      "metadata": {
        "id": "0m8B12jqSLoZ"
      }
    },
    {
      "cell_type": "code",
      "execution_count": null,
      "metadata": {
        "colab": {
          "base_uri": "https://localhost:8080/"
        },
        "id": "MXJsUg9ITmsg",
        "outputId": "32e76c5d-fff6-4e1c-f444-751e5bd041cc"
      },
      "outputs": [
        {
          "output_type": "stream",
          "name": "stdout",
          "text": [
            "Looking in indexes: https://pypi.org/simple, https://us-python.pkg.dev/colab-wheels/public/simple/\n",
            "Collecting pyspark\n",
            "  Downloading pyspark-3.3.1.tar.gz (281.4 MB)\n",
            "\u001b[K     |████████████████████████████████| 281.4 MB 35 kB/s \n",
            "\u001b[?25hCollecting py4j==0.10.9.5\n",
            "  Downloading py4j-0.10.9.5-py2.py3-none-any.whl (199 kB)\n",
            "\u001b[K     |████████████████████████████████| 199 kB 24.9 MB/s \n",
            "\u001b[?25hBuilding wheels for collected packages: pyspark\n",
            "  Building wheel for pyspark (setup.py) ... \u001b[?25l\u001b[?25hdone\n",
            "  Created wheel for pyspark: filename=pyspark-3.3.1-py2.py3-none-any.whl size=281845512 sha256=3050479493911eb6933907a48ea38df22b8411e75a94385fd57523220b9994c2\n",
            "  Stored in directory: /root/.cache/pip/wheels/43/dc/11/ec201cd671da62fa9c5cc77078235e40722170ceba231d7598\n",
            "Successfully built pyspark\n",
            "Installing collected packages: py4j, pyspark\n",
            "Successfully installed py4j-0.10.9.5 pyspark-3.3.1\n",
            "openjdk-11-jdk-headless is already the newest version (11.0.17+8-1ubuntu2~18.04).\n",
            "The following package was automatically installed and is no longer required:\n",
            "  libnvidia-common-460\n",
            "Use 'apt autoremove' to remove it.\n",
            "0 upgraded, 0 newly installed, 0 to remove and 11 not upgraded.\n"
          ]
        }
      ],
      "source": [
        "!pip install pyspark\n",
        "!pip install -U -q PyDrive\n",
        "!apt install openjdk-11-jdk-headless -qq\n",
        "import os\n",
        "os.environ[\"JAVA_HOME\"] = \"/usr/lib/jvm/java-11-openjdk-amd64\""
      ]
    },
    {
      "cell_type": "code",
      "source": [
        "from pydrive.auth import GoogleAuth\n",
        "from pydrive.drive import GoogleDrive\n",
        "from google.colab import auth\n",
        "from oauth2client.client import GoogleCredentials\n",
        "\n",
        "# Authenticate and create the PyDrive client\n",
        "auth.authenticate_user()\n",
        "gauth = GoogleAuth()\n",
        "gauth.credentials = GoogleCredentials.get_application_default()\n",
        "drive = GoogleDrive(gauth)"
      ],
      "metadata": {
        "id": "D-pcl0ImV4GX"
      },
      "execution_count": null,
      "outputs": []
    },
    {
      "cell_type": "code",
      "source": [
        "file_list = drive.ListFile({'q': \"'1iUsSO-Fo5D5c0YX9_6RgA1cy4IK_Da4-' in parents\"}).GetList()\n",
        "for f in file_list:\n",
        "  print('title: %s, id: %s' % (f['title'], f['id']))"
      ],
      "metadata": {
        "id": "zm3yR7YQWGn6"
      },
      "execution_count": null,
      "outputs": []
    },
    {
      "cell_type": "code",
      "source": [
        "id='1q7iH1KpSPEtd35NAOqvA35mikPhracDY'\n",
        "downloaded = drive.CreateFile({'id': id})\n",
        "downloaded.GetContentFile('lastfm.csv')"
      ],
      "metadata": {
        "id": "nyT14z2rWOjh"
      },
      "execution_count": null,
      "outputs": []
    },
    {
      "cell_type": "markdown",
      "source": [
        "***Check whether your dataset was downloaded and stored correctly***"
      ],
      "metadata": {
        "id": "u1D8QpbWWnSC"
      }
    },
    {
      "cell_type": "markdown",
      "source": [
        "** **"
      ],
      "metadata": {
        "id": "siw4HyLLS5Gk"
      }
    },
    {
      "cell_type": "markdown",
      "source": [
        "**First, we will import all libraries neccessary to conduct data exploration**"
      ],
      "metadata": {
        "id": "qILfbnuTgiBO"
      }
    },
    {
      "cell_type": "code",
      "source": [
        "import pandas as pd\n",
        "import numpy as np\n",
        "import matplotlib.pyplot as plt\n",
        "%matplotlib inline\n",
        "import seaborn as sb\n",
        "\n",
        "import pyspark\n",
        "from pyspark.sql import *\n",
        "from pyspark.sql.functions import *\n",
        "from pyspark import SparkContext, SparkConf\n",
        "from pyspark.ml.fpm import FPGrowth"
      ],
      "metadata": {
        "id": "wpFpJEBqu669"
      },
      "execution_count": null,
      "outputs": []
    },
    {
      "cell_type": "markdown",
      "source": [
        "** **"
      ],
      "metadata": {
        "id": "5olee1gfuYEX"
      }
    },
    {
      "cell_type": "markdown",
      "source": [
        "**Next, we create the sparksession. The sparksession is the gateway point to work with pyspark.**\n",
        "\n",
        "**After creating sparksession, we create an instance of sparksession (sparksession context) to work with dataframe or run SQL queries on dataframe**"
      ],
      "metadata": {
        "id": "YGPSoL6lg20w"
      }
    },
    {
      "cell_type": "code",
      "source": [
        "# create the session\n",
        "conf = SparkConf().set(\"spark.ui.port\", \"4050\")\n",
        "\n",
        "# create the context\n",
        "sc = pyspark.SparkContext(conf=conf)\n",
        "spark = SparkSession.builder.getOrCreate()"
      ],
      "metadata": {
        "id": "C75HvJXZvCXv"
      },
      "execution_count": null,
      "outputs": []
    },
    {
      "cell_type": "code",
      "source": [
        "os.environ[\"SPARK_HOME\"] = \"/content/spark-2.4.6-bin-hadoop2.7\""
      ],
      "metadata": {
        "id": "ThVHcRnJvWBa"
      },
      "execution_count": null,
      "outputs": []
    },
    {
      "cell_type": "markdown",
      "source": [
        "** **"
      ],
      "metadata": {
        "id": "PIxHdQFtvesr"
      }
    },
    {
      "cell_type": "markdown",
      "source": [
        "**After creating the instance of sparksession, use the sparkcontext call up the read.csv fucntion to load the dataset into a dataframe**  "
      ],
      "metadata": {
        "id": "1ztH4SwZurh8"
      }
    },
    {
      "cell_type": "code",
      "source": [
        "lastfm_df = spark.read.csv('/content/lastfm.csv', header=True, inferSchema=True)"
      ],
      "metadata": {
        "id": "45dbr1m8xQby"
      },
      "execution_count": null,
      "outputs": []
    },
    {
      "cell_type": "markdown",
      "source": [
        "** **"
      ],
      "metadata": {
        "id": "QzWi_odvv-e0"
      }
    },
    {
      "cell_type": "markdown",
      "source": [
        "### **RUNNING DATA EXPLORATION QUERIES ON THE DATAFRAME USING PySpark**"
      ],
      "metadata": {
        "id": "NQE1y8MovpCX"
      }
    },
    {
      "cell_type": "markdown",
      "source": [
        "**Action 1: PrintSchema of the dataframe to view datatype of each column**"
      ],
      "metadata": {
        "id": "g_r7QG7Mfbp3"
      }
    },
    {
      "cell_type": "code",
      "source": [
        "#Display the lastfm dataframe schema showing column name and data type\n",
        "lastfm_df.printSchema()"
      ],
      "metadata": {
        "colab": {
          "base_uri": "https://localhost:8080/"
        },
        "id": "vhpejzAhxfX7",
        "outputId": "10043dbe-bde2-4cb1-e9c4-abcf421b84d6"
      },
      "execution_count": null,
      "outputs": [
        {
          "output_type": "stream",
          "name": "stdout",
          "text": [
            "root\n",
            " |-- user: integer (nullable = true)\n",
            " |-- artist: string (nullable = true)\n",
            " |-- sex: string (nullable = true)\n",
            " |-- country: string (nullable = true)\n",
            "\n"
          ]
        }
      ]
    },
    {
      "cell_type": "code",
      "source": [
        "lastfm_df.describe().show()"
      ],
      "metadata": {
        "colab": {
          "base_uri": "https://localhost:8080/"
        },
        "id": "gta1avKeGUl0",
        "outputId": "04933858-d556-4f4f-bdda-1407bc7c9ab6"
      },
      "execution_count": null,
      "outputs": [
        {
          "output_type": "stream",
          "name": "stdout",
          "text": [
            "+-------+------------------+--------------------+------+-----------+\n",
            "|summary|              user|              artist|   sex|    country|\n",
            "+-------+------------------+--------------------+------+-----------+\n",
            "|  count|            289955|              289955|289955|     289955|\n",
            "|   mean|  9852.46044731079|  178.03614457831324|  null|       null|\n",
            "| stddev|5692.3550412356335|  133.76780367937877|  null|       null|\n",
            "|    min|                 1|...and you will k...|     f|Afghanistan|\n",
            "|    max|             19718|          Édith piaf|     m|   Zimbabwe|\n",
            "+-------+------------------+--------------------+------+-----------+\n",
            "\n"
          ]
        }
      ]
    },
    {
      "cell_type": "markdown",
      "source": [
        "** **"
      ],
      "metadata": {
        "id": "PqjTw5lP_gWe"
      }
    },
    {
      "cell_type": "markdown",
      "source": [
        "**Action 2: Checking Data types**\n"
      ],
      "metadata": {
        "id": "ObJ63wdl_aOX"
      }
    },
    {
      "cell_type": "code",
      "source": [
        "lastfm_df.dtypes"
      ],
      "metadata": {
        "colab": {
          "base_uri": "https://localhost:8080/"
        },
        "id": "RTh9eo5h_hze",
        "outputId": "49b26250-c9cb-4f5d-edb0-be1dd0d91102"
      },
      "execution_count": null,
      "outputs": [
        {
          "output_type": "execute_result",
          "data": {
            "text/plain": [
              "[('user', 'int'),\n",
              " ('artist', 'string'),\n",
              " ('sex', 'string'),\n",
              " ('country', 'string')]"
            ]
          },
          "metadata": {},
          "execution_count": 11
        }
      ]
    },
    {
      "cell_type": "markdown",
      "source": [
        "** **"
      ],
      "metadata": {
        "id": "5-3T_XJafzzH"
      }
    },
    {
      "cell_type": "markdown",
      "source": [
        "**Action 3:   Display the number of rows in the dataframe**"
      ],
      "metadata": {
        "id": "GSI0c2760vmg"
      }
    },
    {
      "cell_type": "code",
      "source": [
        "lastfm_df.count()"
      ],
      "metadata": {
        "colab": {
          "base_uri": "https://localhost:8080/"
        },
        "id": "0cTw7ZYuwmp9",
        "outputId": "74cdc84a-f520-4f16-9877-ce54df3cf8bb"
      },
      "execution_count": null,
      "outputs": [
        {
          "output_type": "execute_result",
          "data": {
            "text/plain": [
              "289955"
            ]
          },
          "metadata": {},
          "execution_count": 12
        }
      ]
    },
    {
      "cell_type": "markdown",
      "source": [
        "** **"
      ],
      "metadata": {
        "id": "dID5Ak7bbCiE"
      }
    },
    {
      "cell_type": "markdown",
      "source": [
        "**Action 4: Display the number of columns in the dataframe**"
      ],
      "metadata": {
        "id": "8QoNjg_21Nkx"
      }
    },
    {
      "cell_type": "code",
      "source": [
        "print(lastfm_df.columns) # .columns function will display the name of each column in a list\n",
        "len(lastfm_df.columns) # len function will display the number of items (columns) in the list above"
      ],
      "metadata": {
        "colab": {
          "base_uri": "https://localhost:8080/"
        },
        "id": "NosYoT4h1zM0",
        "outputId": "71bc50d7-7011-442f-f9b7-ec38cbdcef0e"
      },
      "execution_count": null,
      "outputs": [
        {
          "output_type": "stream",
          "name": "stdout",
          "text": [
            "['user', 'artist', 'sex', 'country']\n"
          ]
        },
        {
          "output_type": "execute_result",
          "data": {
            "text/plain": [
              "4"
            ]
          },
          "metadata": {},
          "execution_count": 13
        }
      ]
    },
    {
      "cell_type": "markdown",
      "source": [
        "** **"
      ],
      "metadata": {
        "id": "6OJgIA0abG25"
      }
    },
    {
      "cell_type": "markdown",
      "source": [
        "**Action 5:  Display the size(shape) of the dataframe**\n"
      ],
      "metadata": {
        "id": "RC2shDda4Aj9"
      }
    },
    {
      "cell_type": "code",
      "source": [
        "no_of_rows = lastfm_df.count() #store the no. of rows using .count() into the variable no_of_rows\n",
        "no_of_columns = len(lastfm_df.columns) #store the no. of columns using len function into the variable no_of_columns\n",
        "\n",
        "print(f'size of the Dataframe is: {(no_of_rows, no_of_columns)}')"
      ],
      "metadata": {
        "colab": {
          "base_uri": "https://localhost:8080/"
        },
        "id": "WA5hBOYf5b-A",
        "outputId": "40f430a9-2367-4a6a-a1d1-79db4d111bd1"
      },
      "execution_count": null,
      "outputs": [
        {
          "output_type": "stream",
          "name": "stdout",
          "text": [
            "size of the Dataframe is: (289955, 4)\n"
          ]
        }
      ]
    },
    {
      "cell_type": "markdown",
      "source": [
        "** ** **"
      ],
      "metadata": {
        "id": "lt1Cg4qubMcU"
      }
    },
    {
      "cell_type": "markdown",
      "source": [
        "**Action 6: Display the First 10 rows of the dataframe**"
      ],
      "metadata": {
        "id": "dT4vaaww_w-T"
      }
    },
    {
      "cell_type": "code",
      "source": [
        "lastfm_df.show(10)"
      ],
      "metadata": {
        "colab": {
          "base_uri": "https://localhost:8080/"
        },
        "id": "obTi4fT0A3on",
        "outputId": "c57bbdbb-29cf-4313-f88d-08116f5295b8"
      },
      "execution_count": null,
      "outputs": [
        {
          "output_type": "stream",
          "name": "stdout",
          "text": [
            "+----+--------------------+---+-------+\n",
            "|user|              artist|sex|country|\n",
            "+----+--------------------+---+-------+\n",
            "|   1|red hot chili pep...|  f|Germany|\n",
            "|   1|the black dahlia ...|  f|Germany|\n",
            "|   1|           goldfrapp|  f|Germany|\n",
            "|   1|    dropkick murphys|  f|Germany|\n",
            "|   1|            le tigre|  f|Germany|\n",
            "|   1|          schandmaul|  f|Germany|\n",
            "|   1|               edguy|  f|Germany|\n",
            "|   1|        jack johnson|  f|Germany|\n",
            "|   1|           eluveitie|  f|Germany|\n",
            "|   1|         the killers|  f|Germany|\n",
            "+----+--------------------+---+-------+\n",
            "only showing top 10 rows\n",
            "\n"
          ]
        }
      ]
    },
    {
      "cell_type": "markdown",
      "source": [
        "** **"
      ],
      "metadata": {
        "id": "qJHfwxsabS77"
      }
    },
    {
      "cell_type": "markdown",
      "source": [
        "**Action 7: Display the Last 10 rows of the dataframe**"
      ],
      "metadata": {
        "id": "7_YhyIW6FDou"
      }
    },
    {
      "cell_type": "code",
      "source": [
        "lastfm_df.tail(10)\n"
      ],
      "metadata": {
        "colab": {
          "base_uri": "https://localhost:8080/"
        },
        "id": "kFC0Z_8TDIU7",
        "outputId": "d7d111de-22bc-4794-9efe-5daa5a96ba0d"
      },
      "execution_count": null,
      "outputs": [
        {
          "output_type": "execute_result",
          "data": {
            "text/plain": [
              "[Row(user=19718, artist='david bowie', sex='f', country='Canada'),\n",
              " Row(user=19718, artist='mgmt', sex='f', country='Canada'),\n",
              " Row(user=19718, artist='cold war kids', sex='f', country='Canada'),\n",
              " Row(user=19718, artist='fleetwood mac', sex='f', country='Canada'),\n",
              " Row(user=19718, artist='arcade fire', sex='f', country='Canada'),\n",
              " Row(user=19718, artist='bob dylan', sex='f', country='Canada'),\n",
              " Row(user=19718, artist='pixies', sex='f', country='Canada'),\n",
              " Row(user=19718, artist='the clash', sex='f', country='Canada'),\n",
              " Row(user=19718, artist='a tribe called quest', sex='f', country='Canada'),\n",
              " Row(user=19718, artist='radiohead', sex='f', country='Canada')]"
            ]
          },
          "metadata": {},
          "execution_count": 16
        }
      ]
    },
    {
      "cell_type": "markdown",
      "source": [
        "** **"
      ],
      "metadata": {
        "id": "rDfKVzaObXDQ"
      }
    },
    {
      "cell_type": "markdown",
      "source": [
        "**Action 8: Display each distinct user (listener) and thier respective countries; First 10 rows and Last 5 rows**"
      ],
      "metadata": {
        "id": "6eVxnonv29RP"
      }
    },
    {
      "cell_type": "code",
      "source": [
        "lastfm_df.dropDuplicates(['user']).select(\"user\",\"country\").show(10)\n",
        "lastfm_df.dropDuplicates(['user']).select(\"user\",\"country\").tail(5)"
      ],
      "metadata": {
        "colab": {
          "base_uri": "https://localhost:8080/"
        },
        "id": "qwIx98FM23ef",
        "outputId": "4489d536-a3af-42d6-c3c7-ee482d9b7341"
      },
      "execution_count": null,
      "outputs": [
        {
          "output_type": "stream",
          "name": "stdout",
          "text": [
            "+----+------------------+\n",
            "|user|           country|\n",
            "+----+------------------+\n",
            "|   1|           Germany|\n",
            "|   3|     United States|\n",
            "|   4|    United Kingdom|\n",
            "|   5|           Finland|\n",
            "|   6|          Portugal|\n",
            "|   7|           Finland|\n",
            "|   9|     United States|\n",
            "|  12|             Italy|\n",
            "|  13|           Austria|\n",
            "|  14|Korea, Republic of|\n",
            "+----+------------------+\n",
            "only showing top 10 rows\n",
            "\n"
          ]
        },
        {
          "output_type": "execute_result",
          "data": {
            "text/plain": [
              "[Row(user=19713, country='Ukraine'),\n",
              " Row(user=19714, country='United Kingdom'),\n",
              " Row(user=19715, country='United Kingdom'),\n",
              " Row(user=19717, country='Brazil'),\n",
              " Row(user=19718, country='Canada')]"
            ]
          },
          "metadata": {},
          "execution_count": 17
        }
      ]
    },
    {
      "cell_type": "markdown",
      "source": [
        "** **"
      ],
      "metadata": {
        "id": "Tijs1CZhbsv7"
      }
    },
    {
      "cell_type": "markdown",
      "source": [
        "**Action 9: Count the number of distinct items in each column of the dataframe [ 'user', 'artist', 'sex', 'country' ]**"
      ],
      "metadata": {
        "id": "84XgF6-oMfba"
      }
    },
    {
      "cell_type": "code",
      "source": [
        "print(lastfm_df.select(max('user'), min('user')).show())\n",
        "print (\" \")\n",
        "\n",
        "print (\"The Number of distinct User is:\", lastfm_df.select('user').distinct().count())\n",
        "print (\"The Number of distinct Artist is:\", lastfm_df.select('artist',).distinct().count())\n",
        "print (\"The Number of distinct Country is:\", lastfm_df.select('country').distinct().count())"
      ],
      "metadata": {
        "colab": {
          "base_uri": "https://localhost:8080/"
        },
        "id": "pwZCpVVzKx1P",
        "outputId": "849b45c5-bb08-4973-be55-dd829502aab1"
      },
      "execution_count": null,
      "outputs": [
        {
          "output_type": "stream",
          "name": "stdout",
          "text": [
            "+---------+---------+\n",
            "|max(user)|min(user)|\n",
            "+---------+---------+\n",
            "|    19718|        1|\n",
            "+---------+---------+\n",
            "\n",
            "None\n",
            " \n",
            "The Number of distinct User is: 15000\n",
            "The Number of distinct Artist is: 1004\n",
            "The Number of distinct Country is: 159\n"
          ]
        }
      ]
    },
    {
      "cell_type": "markdown",
      "source": [
        "** **"
      ],
      "metadata": {
        "id": "PVTMeXaRbzYN"
      }
    },
    {
      "cell_type": "code",
      "source": [],
      "metadata": {
        "id": "0XehzQ6diqOU"
      },
      "execution_count": null,
      "outputs": []
    },
    {
      "cell_type": "markdown",
      "source": [
        "### **DATA PRE-PROCESSING TECHNIQUES**"
      ],
      "metadata": {
        "id": "nxBydDnlNXwq"
      }
    },
    {
      "cell_type": "markdown",
      "source": [
        "**1. DATA CLEANING**"
      ],
      "metadata": {
        "id": "gWpEz417Nhep"
      }
    },
    {
      "cell_type": "markdown",
      "source": [
        "**Validation to find missing or null values**"
      ],
      "metadata": {
        "id": "nFPZxx3WN7uw"
      }
    },
    {
      "cell_type": "code",
      "source": [
        "df = ['user','artist','sex','country']\n",
        "lastfm_df.select([count(col(any_row)).isNull() for any_row in df]).show()\n",
        "\n",
        "df = ['user','artist','sex','country']\n",
        "lastfm_df.select([count(col(any_row).isNull()) for any_row in df]).show()"
      ],
      "metadata": {
        "colab": {
          "base_uri": "https://localhost:8080/"
        },
        "id": "9K1PtXmsNiyY",
        "outputId": "b8f411b9-6604-4e4b-a0ea-c1a1625a72f5"
      },
      "execution_count": null,
      "outputs": [
        {
          "output_type": "stream",
          "name": "stdout",
          "text": [
            "+---------------------+-----------------------+--------------------+------------------------+\n",
            "|(count(user) IS NULL)|(count(artist) IS NULL)|(count(sex) IS NULL)|(count(country) IS NULL)|\n",
            "+---------------------+-----------------------+--------------------+------------------------+\n",
            "|                false|                  false|               false|                   false|\n",
            "+---------------------+-----------------------+--------------------+------------------------+\n",
            "\n",
            "+---------------------+-----------------------+--------------------+------------------------+\n",
            "|count((user IS NULL))|count((artist IS NULL))|count((sex IS NULL))|count((country IS NULL))|\n",
            "+---------------------+-----------------------+--------------------+------------------------+\n",
            "|               289955|                 289955|              289955|                  289955|\n",
            "+---------------------+-----------------------+--------------------+------------------------+\n",
            "\n"
          ]
        }
      ]
    },
    {
      "cell_type": "markdown",
      "source": [
        "**2. DATA TRANSFORMATION**"
      ],
      "metadata": {
        "id": "vOg3y5ZSN0ip"
      }
    },
    {
      "cell_type": "markdown",
      "source": [
        "**Removing duplicates**"
      ],
      "metadata": {
        "id": "3qvm9y2UNcP6"
      }
    },
    {
      "cell_type": "code",
      "source": [
        "#IDENTIFYING DUPLICATES - count the number of duplicate entries and display the row records\n",
        "\n",
        "import pyspark.sql.functions as psf\n",
        "lastfm_df.groupBy(lastfm_df.columns).count().where(psf.col('count') > 1).select(psf.sum('count')).show()\n",
        "\n",
        "import pyspark.sql.functions as psf\n",
        "lastfm_df.groupBy(lastfm_df.columns).count().where(psf.col('count') > 1).show()\n",
        "\n"
      ],
      "metadata": {
        "colab": {
          "base_uri": "https://localhost:8080/"
        },
        "id": "etmQLAfxNpRC",
        "outputId": "3fb5db7a-d75f-4472-bfd0-024e6be1c1a9"
      },
      "execution_count": null,
      "outputs": [
        {
          "output_type": "stream",
          "name": "stdout",
          "text": [
            "+----------+\n",
            "|sum(count)|\n",
            "+----------+\n",
            "|         4|\n",
            "+----------+\n",
            "\n",
            "+----+-----------+---+--------------+-----+\n",
            "|user|     artist|sex|       country|count|\n",
            "+----+-----------+---+--------------+-----+\n",
            "|9753|james brown|  m|       Germany|    2|\n",
            "|6980|     m.i.a.|  f|United Kingdom|    2|\n",
            "+----+-----------+---+--------------+-----+\n",
            "\n"
          ]
        }
      ]
    },
    {
      "cell_type": "code",
      "source": [
        "#DROPPING DUPLICATES FROM THE DATASET\n",
        "lastfm_df1 = lastfm_df.dropDuplicates(['user','artist','sex','country'])\n",
        "\n",
        "lastfm_df1.count()"
      ],
      "metadata": {
        "colab": {
          "base_uri": "https://localhost:8080/"
        },
        "id": "syxghbcpOFv6",
        "outputId": "b86fc14b-1a3f-4675-c1e0-2d02b28a23de"
      },
      "execution_count": null,
      "outputs": [
        {
          "output_type": "execute_result",
          "data": {
            "text/plain": [
              "289953"
            ]
          },
          "metadata": {},
          "execution_count": 21
        }
      ]
    },
    {
      "cell_type": "markdown",
      "source": [
        "** **"
      ],
      "metadata": {
        "id": "F4Vp9G0FOG2i"
      }
    },
    {
      "cell_type": "markdown",
      "source": [
        "### **OTHER DATA EXPLORATION USING GroupBy, Agg, OrderBy and countDistinct FUNCTIONS**\n"
      ],
      "metadata": {
        "id": "yMWjeuk7Xqny"
      }
    },
    {
      "cell_type": "markdown",
      "source": [
        "From this point hencefort, the new dataframe to be used for exploration and transformation will be the normalized dataframe in the previous action 9 which is **\"lastfm_df1\"**"
      ],
      "metadata": {
        "id": "VJonT1bEsUan"
      }
    },
    {
      "cell_type": "markdown",
      "source": [
        " **Action 10: the artist that recieved the highest number / least number of radio play from listeners**"
      ],
      "metadata": {
        "id": "TzlW6L8MX0EX"
      }
    },
    {
      "cell_type": "code",
      "source": [
        "artist_radioplays = lastfm_df1.groupBy('artist').agg(count('artist').alias('frequency of radio plays')).orderBy('frequency of radio plays',ascending=False)\n",
        "\n",
        "print (artist_radioplays.show(5))          #display the frequency of the top 5 artists and thier frequency of radio plays\n",
        "\n",
        "artist_radioplays.tail(5)                  #display the frequency of the least 5 music artist and frequency of radio plays"
      ],
      "metadata": {
        "colab": {
          "base_uri": "https://localhost:8080/"
        },
        "id": "t5rYCY49Y4Ke",
        "outputId": "f3177d92-bcab-4bf7-a843-9102666b1bb3"
      },
      "execution_count": null,
      "outputs": [
        {
          "output_type": "stream",
          "name": "stdout",
          "text": [
            "+--------------------+------------------------+\n",
            "|              artist|frequency of radio plays|\n",
            "+--------------------+------------------------+\n",
            "|           radiohead|                    2704|\n",
            "|         the beatles|                    2668|\n",
            "|            coldplay|                    2378|\n",
            "|red hot chili pep...|                    1786|\n",
            "|                muse|                    1711|\n",
            "+--------------------+------------------------+\n",
            "only showing top 5 rows\n",
            "\n",
            "None\n"
          ]
        },
        {
          "output_type": "execute_result",
          "data": {
            "text/plain": [
              "[Row(artist='tarja turunen', frequency of radio plays=99),\n",
              " Row(artist='schandmaul', frequency of radio plays=98),\n",
              " Row(artist='toto', frequency of radio plays=98),\n",
              " Row(artist='mary j. blige', frequency of radio plays=96),\n",
              " Row(artist='thin lizzy', frequency of radio plays=96)]"
            ]
          },
          "metadata": {},
          "execution_count": 37
        }
      ]
    },
    {
      "cell_type": "markdown",
      "source": [
        "** **"
      ],
      "metadata": {
        "id": "g7-I8oDeIOFn"
      }
    },
    {
      "cell_type": "markdown",
      "source": [
        "**Action 11: Distribution plot of the frequency of radio plays by artist**"
      ],
      "metadata": {
        "id": "SbedGhRBIV89"
      }
    },
    {
      "cell_type": "code",
      "source": [
        "df_artist_radioplays = artist_radioplays.toPandas()\n",
        "\n",
        "sb.displot(df_artist_radioplays['frequency of radio plays'], kde=True, bins = 20, color='r')\n",
        "\n",
        "plt.title(\"Distribution of number of radioplays by music artist\")\n",
        "plt.savefig('distribution_of_radioplays_by_artist2', bbox_inches = 'tight')"
      ],
      "metadata": {
        "colab": {
          "base_uri": "https://localhost:8080/",
          "height": 385
        },
        "id": "EjDHV6zaXge_",
        "outputId": "9aa2a0b0-857d-4509-a052-4ce61de89d57"
      },
      "execution_count": null,
      "outputs": [
        {
          "output_type": "display_data",
          "data": {
            "text/plain": [
              "<Figure size 360x360 with 1 Axes>"
            ],
            "image/png": "[encoded data removed]"
          },
          "metadata": {
            "needs_background": "light"
          }
        }
      ]
    },
    {
      "cell_type": "markdown",
      "source": [
        "** **"
      ],
      "metadata": {
        "id": "xeeW1fs4cqd3"
      }
    },
    {
      "cell_type": "markdown",
      "source": [
        "**Action 12: frequency of countries from the entire data observations**"
      ],
      "metadata": {
        "id": "U9lBowxWy1q5"
      }
    },
    {
      "cell_type": "code",
      "source": [
        "lastfm_df1.groupBy('country').agg(count('country').alias('frequency_of_country')).orderBy('frequency_of_country',ascending=False).show(10)"
      ],
      "metadata": {
        "colab": {
          "base_uri": "https://localhost:8080/"
        },
        "id": "UM_ytZ7_zDWB",
        "outputId": "584b2c1a-2216-45c4-ab42-89e40b17c7c7"
      },
      "execution_count": null,
      "outputs": [
        {
          "output_type": "stream",
          "name": "stdout",
          "text": [
            "+------------------+--------------------+\n",
            "|           country|frequency_of_country|\n",
            "+------------------+--------------------+\n",
            "|     United States|               59558|\n",
            "|    United Kingdom|               27637|\n",
            "|           Germany|               24250|\n",
            "|            Poland|               17111|\n",
            "|            Sweden|               12379|\n",
            "|            Brazil|               11922|\n",
            "|Russian Federation|               11676|\n",
            "|           Finland|               10157|\n",
            "|       Netherlands|                9673|\n",
            "|             Spain|                9322|\n",
            "+------------------+--------------------+\n",
            "only showing top 10 rows\n",
            "\n"
          ]
        }
      ]
    },
    {
      "cell_type": "markdown",
      "source": [
        "** **"
      ],
      "metadata": {
        "id": "vm4r5lvrdNXe"
      }
    },
    {
      "cell_type": "markdown",
      "source": [
        "**Action 13: Number of users (listeners) that belong to each country**"
      ],
      "metadata": {
        "id": "DaHyEMkkVjE7"
      }
    },
    {
      "cell_type": "code",
      "source": [
        "unique_country_df = lastfm_df1.groupBy('country').agg(countDistinct('user').alias('no_of_distinct_users (listeners)'))\n",
        "\n",
        "unique_country_df.orderBy('no_of_distinct_users (listeners)',ascending=False).show(5) #Top 5 countries that had highest number of listeners\n",
        "\n",
        "unique_country_df.orderBy('no_of_distinct_users (listeners)',ascending=False).tail(5) #Least 5 countries that had least number of listeners"
      ],
      "metadata": {
        "colab": {
          "base_uri": "https://localhost:8080/"
        },
        "id": "zNDV-rmHNG1h",
        "outputId": "33eb3d88-56bc-4c1b-cd50-112bdacdb530"
      },
      "execution_count": null,
      "outputs": [
        {
          "output_type": "stream",
          "name": "stdout",
          "text": [
            "+------------------+--------------------------------+\n",
            "|           country|no_of_distinct_users (listeners)|\n",
            "+------------------+--------------------------------+\n",
            "|     United States|                            2905|\n",
            "|           Germany|                            1257|\n",
            "|    United Kingdom|                            1256|\n",
            "|            Poland|                             983|\n",
            "|Russian Federation|                             785|\n",
            "+------------------+--------------------------------+\n",
            "only showing top 5 rows\n",
            "\n"
          ]
        },
        {
          "output_type": "execute_result",
          "data": {
            "text/plain": [
              "[Row(country='Antigua and Barbuda', no_of_distinct_users (listeners)=1),\n",
              " Row(country='Luxembourg', no_of_distinct_users (listeners)=1),\n",
              " Row(country='Niue', no_of_distinct_users (listeners)=1),\n",
              " Row(country='Mauritius', no_of_distinct_users (listeners)=1),\n",
              " Row(country='Syrian Arab Republic', no_of_distinct_users (listeners)=1)]"
            ]
          },
          "metadata": {},
          "execution_count": 36
        }
      ]
    },
    {
      "cell_type": "markdown",
      "source": [
        "** **"
      ],
      "metadata": {
        "id": "1i-vlxeWetSS"
      }
    },
    {
      "cell_type": "markdown",
      "source": [
        "**Action 14: Display the users that listen to the most number / Least number of artists, grouped by the user's country**"
      ],
      "metadata": {
        "id": "SeVlnZmg09zu"
      }
    },
    {
      "cell_type": "code",
      "source": [
        "lastfm_df1.groupBy('user','country').agg(count('artist')).orderBy('count(artist)',ascending=False).show(5)  #User that listens to most number of artists\n",
        "\n",
        "lastfm_df1.groupBy('user','country').agg(count('artist')).orderBy('count(artist)',ascending=False).tail(5)  #User that listens to least number of artists"
      ],
      "metadata": {
        "colab": {
          "base_uri": "https://localhost:8080/"
        },
        "id": "argswXuB2BQh",
        "outputId": "625c588a-0c38-4656-ea09-36f0a162c158"
      },
      "execution_count": null,
      "outputs": [
        {
          "output_type": "stream",
          "name": "stdout",
          "text": [
            "+-----+-------------+-------------+\n",
            "| user|      country|count(artist)|\n",
            "+-----+-------------+-------------+\n",
            "|17681|  New Zealand|           76|\n",
            "|15057|United States|           63|\n",
            "|19558|        Spain|           55|\n",
            "| 1208|       Mexico|           55|\n",
            "|13424|      Germany|           54|\n",
            "+-----+-------------+-------------+\n",
            "only showing top 5 rows\n",
            "\n"
          ]
        },
        {
          "output_type": "execute_result",
          "data": {
            "text/plain": [
              "[Row(user=15569, country='Bosnia and Herzegovina', count(artist)=1),\n",
              " Row(user=19065, country='France', count(artist)=1),\n",
              " Row(user=1915, country='United States', count(artist)=1),\n",
              " Row(user=6068, country='Sweden', count(artist)=1),\n",
              " Row(user=9075, country='United Kingdom', count(artist)=1)]"
            ]
          },
          "metadata": {},
          "execution_count": 39
        }
      ]
    },
    {
      "cell_type": "markdown",
      "source": [
        "** **"
      ],
      "metadata": {
        "id": "3RgIwIVStIXg"
      }
    },
    {
      "cell_type": "markdown",
      "source": [
        "**Action 15 : To find the average number of music artists listened by the male population in each country**"
      ],
      "metadata": {
        "id": "e8TLq8Y4tK6k"
      }
    },
    {
      "cell_type": "code",
      "source": [
        "#Group the dataframe by columns [user, sex, country] and aggregate by the number of artist with a new alias called 'no_of_artist_in_music_playlist'.\n",
        "#Order the dataframe by the new alias from a descending order\n",
        "#save the dataframe into a new variable called \"lastfm_for_average\"\n",
        "lastfm_for_avg = lastfm_df1.groupBy('user','sex','country').agg(count('artist').alias('no_of_artist_in_music_playlist')).orderBy('no_of_artist_in_music_playlist',ascending=False)\n",
        "\n",
        "lastfm_avg_male = lastfm_for_avg.filter(lastfm_for_avg.sex == 'm').groupBy('country','sex').agg(avg('no_of_artist_in_music_playlist')).orderBy(avg('no_of_artist_in_music_playlist'), ascending=False)"
      ],
      "metadata": {
        "id": "XHsa9K2EmEcR"
      },
      "execution_count": null,
      "outputs": []
    },
    {
      "cell_type": "markdown",
      "source": [
        "**"
      ],
      "metadata": {
        "id": "p73XPdocxGr9"
      }
    },
    {
      "cell_type": "markdown",
      "source": [
        "**Bar chart showing the average number of music artists listened by the male population in each country**"
      ],
      "metadata": {
        "id": "-XvoYzxPw41c"
      }
    },
    {
      "cell_type": "code",
      "source": [
        "df_lastfm_avg_male = lastfm_avg_male.toPandas()\n",
        "sb.barplot(x='avg(no_of_artist_in_music_playlist)', y='country', data=df_lastfm_avg_male.head(10))\n",
        "plt.title('Average number of music artists listened to by the male population in each country')\n",
        "plt.savefig('Average number of music artists listened to by the male population.png', bbox_inches = 'tight')"
      ],
      "metadata": {
        "colab": {
          "base_uri": "https://localhost:8080/",
          "height": 296
        },
        "id": "lH0L-47A4Fue",
        "outputId": "d7e806d4-ba41-4349-9ce7-f5039d52770e"
      },
      "execution_count": null,
      "outputs": [
        {
          "output_type": "display_data",
          "data": {
            "text/plain": [
              "<Figure size 432x288 with 1 Axes>"
            ],
            "image/png": "[encoded data removed]"
          },
          "metadata": {
            "needs_background": "light"
          }
        }
      ]
    },
    {
      "cell_type": "markdown",
      "source": [
        "** **"
      ],
      "metadata": {
        "id": "a_iGrkOw-d90"
      }
    },
    {
      "cell_type": "markdown",
      "source": [
        "**Action 16 : To find the average number of music artists listened by both male and female population in each country**"
      ],
      "metadata": {
        "id": "r_U7mrjJ-HNb"
      }
    },
    {
      "cell_type": "code",
      "source": [
        "lastfm_for_avg = lastfm_df1.groupBy('user','country').agg(count('artist').alias('no_of_artist_in_music_playlist')).orderBy('no_of_artist_in_music_playlist',ascending=False)\n",
        "\n",
        "lastfm_avg_per_country = lastfm_for_avg.groupBy('country','user').agg(avg('no_of_artist_in_music_playlist')).orderBy(avg('no_of_artist_in_music_playlist'), ascending=False)"
      ],
      "metadata": {
        "id": "GjEi1oDQ-GdH"
      },
      "execution_count": null,
      "outputs": []
    },
    {
      "cell_type": "markdown",
      "source": [
        "** **"
      ],
      "metadata": {
        "id": "cAJhFvAcasuz"
      }
    },
    {
      "cell_type": "markdown",
      "source": [
        "**Action 17: Bar chart showing average number of artists listened by both male and female population in each country**"
      ],
      "metadata": {
        "id": "g7pab3BuaiSZ"
      }
    },
    {
      "cell_type": "code",
      "source": [
        "df_lastfm_avg_per_country = lastfm_avg_per_country.toPandas()\n",
        "\n",
        "#Plotting the barchart using seaborn\n",
        "sb.barplot(x='avg(no_of_artist_in_music_playlist)', y='country', data=df_lastfm_avg_per_country.head(15))\n",
        "plt.title('Average number of music artists listened to by both Male & female population in each country')\n",
        "\n",
        "#saving the chart\n",
        "plt.savefig('Average number of music artists listened to by both Male & female population in each country.png', bbox_inches = 'tight')"
      ],
      "metadata": {
        "colab": {
          "base_uri": "https://localhost:8080/",
          "height": 296
        },
        "id": "OpaZkB5F-OOR",
        "outputId": "cbb5541a-1e8c-49e0-da2d-252f35ba09ac"
      },
      "execution_count": null,
      "outputs": [
        {
          "output_type": "display_data",
          "data": {
            "text/plain": [
              "<Figure size 432x288 with 1 Axes>"
            ],
            "image/png": "[encoded data removed]"
          },
          "metadata": {
            "needs_background": "light"
          }
        }
      ]
    },
    {
      "cell_type": "markdown",
      "source": [
        "** **"
      ],
      "metadata": {
        "id": "OIyCtP2ve6El"
      }
    },
    {
      "cell_type": "markdown",
      "source": [
        "**Action 18: Count the number of users that are either male or female in every row observation**"
      ],
      "metadata": {
        "id": "JzNzXUb2_Z_M"
      }
    },
    {
      "cell_type": "code",
      "source": [
        "lastfm_df1.groupBy('sex').agg(count('user')).show()"
      ],
      "metadata": {
        "colab": {
          "base_uri": "https://localhost:8080/"
        },
        "id": "ovcxx5KJ07Zx",
        "outputId": "3d4e23ff-44b0-4406-a646-e4517543075b"
      },
      "execution_count": null,
      "outputs": [
        {
          "output_type": "stream",
          "name": "stdout",
          "text": [
            "+---+-----------+\n",
            "|sex|count(user)|\n",
            "+---+-----------+\n",
            "|  m|     211822|\n",
            "|  f|      78131|\n",
            "+---+-----------+\n",
            "\n"
          ]
        }
      ]
    },
    {
      "cell_type": "code",
      "source": [
        "#Count the number of distinct users in entire that are Male and Female\n",
        "\n",
        "lastfm_df1.groupBy('sex').agg(countDistinct('user')).show()"
      ],
      "metadata": {
        "colab": {
          "base_uri": "https://localhost:8080/"
        },
        "id": "W2txy8UeNhY-",
        "outputId": "20c34615-01d6-4009-f422-218481e3cf49"
      },
      "execution_count": null,
      "outputs": [
        {
          "output_type": "stream",
          "name": "stdout",
          "text": [
            "+---+-----------+\n",
            "|sex|count(user)|\n",
            "+---+-----------+\n",
            "|  m|      11149|\n",
            "|  f|       3851|\n",
            "+---+-----------+\n",
            "\n"
          ]
        }
      ]
    },
    {
      "cell_type": "markdown",
      "source": [
        "** **"
      ],
      "metadata": {
        "id": "lEh9TOsvK_p3"
      }
    },
    {
      "cell_type": "markdown",
      "source": [
        "## **FREQUENT ITEMSET PATTERN MINING**"
      ],
      "metadata": {
        "id": "-OTx57cAbEDi"
      }
    },
    {
      "cell_type": "markdown",
      "source": [
        "**TASK 1:** **We first group the *lastfm_df1* dataframe by column [ 'user' ] and collect a user's listening history to obtain a single row per user that captures the list of user music_playlist_history**"
      ],
      "metadata": {
        "id": "dDidB5hf0M7N"
      }
    },
    {
      "cell_type": "code",
      "source": [
        "#save the grouped dataframe into a new variable called 'lastfm_df_grouped'\n",
        "\n",
        "lastfm_df_grouped = lastfm_df1.groupBy('user','sex','country').agg({'artist': 'collect_list'}).toDF('user', 'sex','country','music_artist_playlist')\n",
        "lastfm_df_grouped.show(5)"
      ],
      "metadata": {
        "colab": {
          "base_uri": "https://localhost:8080/"
        },
        "id": "5uc6JrR247MP",
        "outputId": "cfdf40ff-d618-4618-e4c2-79dcb857813f"
      },
      "execution_count": null,
      "outputs": [
        {
          "output_type": "stream",
          "name": "stdout",
          "text": [
            "+----+---+--------------+---------------------+\n",
            "|user|sex|       country|music_artist_playlist|\n",
            "+----+---+--------------+---------------------+\n",
            "|   3|  m| United States| [pavement, mf doo...|\n",
            "|   4|  m|United Kingdom| [the flaming lips...|\n",
            "|   6|  m|      Portugal| [muse, dream thea...|\n",
            "|   7|  m|       Finland| [alice in chains,...|\n",
            "|   9|  m| United States| [children of bodo...|\n",
            "+----+---+--------------+---------------------+\n",
            "only showing top 5 rows\n",
            "\n"
          ]
        }
      ]
    },
    {
      "cell_type": "markdown",
      "source": [
        "** **"
      ],
      "metadata": {
        "id": "qS8dL9k_btQS"
      }
    },
    {
      "cell_type": "markdown",
      "source": [
        "**TASK 2:**    **The variable created in task1 which contains user's music listening history is Split into 80% test_data and 20% train_data**"
      ],
      "metadata": {
        "id": "ljACdKjPbj5u"
      }
    },
    {
      "cell_type": "code",
      "source": [
        "lastfm_df_train_data, lastfm_df_test_data = lastfm_df_grouped.randomSplit (weights = [0.8,0.2], seed = 200)"
      ],
      "metadata": {
        "id": "ZdWJ4xhSKqhO"
      },
      "execution_count": null,
      "outputs": []
    },
    {
      "cell_type": "code",
      "source": [
        "print(lastfm_df_train_data.count())\n",
        "print(lastfm_df_test_data.count())"
      ],
      "metadata": {
        "colab": {
          "base_uri": "https://localhost:8080/"
        },
        "id": "BGAGT6mJx4u4",
        "outputId": "d349ae8d-94a6-4e53-8f62-200db9892059"
      },
      "execution_count": null,
      "outputs": [
        {
          "output_type": "stream",
          "name": "stdout",
          "text": [
            "11954\n",
            "3046\n"
          ]
        }
      ]
    },
    {
      "cell_type": "markdown",
      "source": [
        "** ** "
      ],
      "metadata": {
        "id": "5vksCwNP4_BP"
      }
    },
    {
      "cell_type": "markdown",
      "source": [
        "**TASK 3: We use MLlib, Apache Spark's scalable machine learning library \n",
        "to implement FP-Growth algorithm using four different set parameters of support (S) and confidence (C)**"
      ],
      "metadata": {
        "id": "jSXYuTrhb-1x"
      }
    },
    {
      "cell_type": "code",
      "source": [
        "#Four tests are perfrormed using minimum support and confidence values. Each of the four FP-growth algorithms is stored in a variable\n",
        "fp_growth_1 = FPGrowth(itemsCol = \"music_artist_playlist\", minSupport = 0.02, minConfidence = 0.3)\n",
        "fp_growth_2 = FPGrowth(itemsCol = \"music_artist_playlist\", minSupport = 0.01, minConfidence = 0.3)\n",
        "fp_growth_3 = FPGrowth(itemsCol = \"music_artist_playlist\", minSupport = 0.001, minConfidence = 0.5)\n",
        "fp_growth_4 = FPGrowth(itemsCol = \"music_artist_playlist\", minSupport = 0.006, minConfidence = 0.3)\n",
        "\n",
        "#Each of the 4 FP-growth test algorithms is fit with 80% train data\n",
        "lastfm_model_test1 = fp_growth_1.fit(lastfm_df_train_data)\n",
        "lastfm_model_test2 = fp_growth_2.fit(lastfm_df_train_data)\n",
        "lastfm_model_test3 = fp_growth_3.fit(lastfm_df_train_data)\n",
        "lastfm_model_test4 = fp_growth_4.fit(lastfm_df_train_data)"
      ],
      "metadata": {
        "id": "gijqO6eVyHgv"
      },
      "execution_count": null,
      "outputs": []
    },
    {
      "cell_type": "markdown",
      "source": [
        "** **"
      ],
      "metadata": {
        "id": "4xpxXg2EiVGh"
      }
    },
    {
      "cell_type": "markdown",
      "source": [
        "**TASK 4: We compute the Frequent itemset count and Association Rules count for each of the 4 FP-growth test algorithm**"
      ],
      "metadata": {
        "id": "-sV4OUaYiXGI"
      }
    },
    {
      "cell_type": "code",
      "source": [
        "print(lastfm_model_test1.freqItemsets.count(), 'Frequent itemsets for model 1')\n",
        "print(lastfm_model_test1.associationRules.count(), 'Association rules for model 1')\n",
        "print(\"\")\n",
        "print(lastfm_model_test2.freqItemsets.count(), 'Frequent itemsets for model 2')\n",
        "print(lastfm_model_test2.associationRules.count(),'Association rules for model 2')\n",
        "print(\"\")\n",
        "print(lastfm_model_test3.freqItemsets.count(), 'Frequent itemsets for model 3')\n",
        "print(lastfm_model_test3.associationRules.count(), 'Association rules for model 3')\n",
        "print(\"\")\n",
        "print(lastfm_model_test4.freqItemsets.count(), 'Frequent itemsets for model 4')\n",
        "print(lastfm_model_test4.associationRules.count(), 'Association rules for model 4')"
      ],
      "metadata": {
        "colab": {
          "base_uri": "https://localhost:8080/"
        },
        "id": "Gb0R8cWQ652K",
        "outputId": "c2cb4bc2-c10a-443b-d7ea-44b455bec85c"
      },
      "execution_count": null,
      "outputs": [
        {
          "output_type": "stream",
          "name": "stdout",
          "text": [
            "396 Frequent itemsets for model 1\n",
            "86 Association rules for model 1\n",
            "\n",
            "1662 Frequent itemsets for model 2\n",
            "477 Association rules for model 2\n",
            "\n",
            "281045 Frequent itemsets for model 3\n",
            "194322 Association rules for model 3\n",
            "\n",
            "4936 Frequent itemsets for model 4\n",
            "2197 Association rules for model 4\n"
          ]
        }
      ]
    },
    {
      "cell_type": "markdown",
      "source": [
        "** **"
      ],
      "metadata": {
        "id": "wVa0f8nR9Yef"
      }
    },
    {
      "cell_type": "markdown",
      "source": [
        "**TASK 5: We show a compute the first 3 names and last 3 names of the frequent music artists**"
      ],
      "metadata": {
        "id": "wVakx3mn8wjp"
      }
    },
    {
      "cell_type": "code",
      "source": [
        "#Each of the 4 test FP growth model will show their top 3 frequent music artist\n",
        "lastfm_model_test1.freqItemsets.sort(desc('freq')).show(3)\n",
        "lastfm_model_test2.freqItemsets.sort(desc('freq')).show(3)\n",
        "lastfm_model_test3.freqItemsets.sort(desc('freq')).show(3)\n",
        "lastfm_model_test4.freqItemsets.sort(desc('freq')).show(3)\n",
        "\n",
        "#Each of the 4 test FP growth model will show their least 3 frequent music artist\n",
        "least_freq1 = lastfm_model_test1.freqItemsets.sort(desc('freq')).tail(3);   print(least_freq1)\n",
        "least_freq2 = lastfm_model_test2.freqItemsets.sort(desc('freq')).tail(3);   print(least_freq2)\n",
        "least_freq3 = lastfm_model_test3.freqItemsets.sort(desc('freq')).tail(3);   print(least_freq3)\n",
        "least_freq4 = lastfm_model_test4.freqItemsets.sort(desc('freq')).tail(3);   print(least_freq4)"
      ],
      "metadata": {
        "colab": {
          "base_uri": "https://localhost:8080/"
        },
        "id": "PXBSwkFRiwOo",
        "outputId": "c7f0a18c-8611-4f84-b401-561deb784089"
      },
      "execution_count": null,
      "outputs": [
        {
          "output_type": "stream",
          "name": "stdout",
          "text": [
            "+-------------+----+\n",
            "|        items|freq|\n",
            "+-------------+----+\n",
            "|  [radiohead]|2117|\n",
            "|[the beatles]|2108|\n",
            "|   [coldplay]|1884|\n",
            "+-------------+----+\n",
            "only showing top 3 rows\n",
            "\n",
            "+-------------+----+\n",
            "|        items|freq|\n",
            "+-------------+----+\n",
            "|  [radiohead]|2117|\n",
            "|[the beatles]|2108|\n",
            "|   [coldplay]|1884|\n",
            "+-------------+----+\n",
            "only showing top 3 rows\n",
            "\n",
            "+-------------+----+\n",
            "|        items|freq|\n",
            "+-------------+----+\n",
            "|  [radiohead]|2117|\n",
            "|[the beatles]|2108|\n",
            "|   [coldplay]|1884|\n",
            "+-------------+----+\n",
            "only showing top 3 rows\n",
            "\n",
            "+-------------+----+\n",
            "|        items|freq|\n",
            "+-------------+----+\n",
            "|  [radiohead]|2117|\n",
            "|[the beatles]|2108|\n",
            "|   [coldplay]|1884|\n",
            "+-------------+----+\n",
            "only showing top 3 rows\n",
            "\n",
            "[Row(items=['snoop dogg'], freq=241), Row(items=['modest mouse', 'radiohead'], freq=240), Row(items=['cansei de ser sexy'], freq=240)]\n",
            "[Row(items=['mgmt', 'arctic monkeys'], freq=120), Row(items=['r.e.m.', 'david bowie'], freq=120), Row(items=['nickelback', 'red hot chili peppers'], freq=120)]\n",
            "[Row(items=['joss stone', 'depeche mode'], freq=12), Row(items=['joss stone', 'john mayer'], freq=12), Row(items=['joss stone', 'kylie minogue'], freq=12)]\n",
            "[Row(items=['lily allen', 'arctic monkeys'], freq=72), Row(items=['michael jackson', 'led zeppelin'], freq=72), Row(items=['jimmy eat world', 'snow patrol'], freq=72)]\n"
          ]
        }
      ]
    },
    {
      "cell_type": "markdown",
      "source": [
        "** **"
      ],
      "metadata": {
        "id": "FYtHrh8UBbya"
      }
    },
    {
      "cell_type": "markdown",
      "source": [
        "**TASK 6: We want to view the highest lift value for each antecedent and consequent in each of the 4 FP-Growth test models**"
      ],
      "metadata": {
        "id": "WQzlKAI8BhUR"
      }
    },
    {
      "cell_type": "code",
      "source": [
        "lastfm_model_test1.associationRules.sort(desc('lift')).show(1)\n",
        "lastfm_model_test2.associationRules.sort(desc('lift')).show(1)\n",
        "lastfm_model_test3.associationRules.sort(desc('lift')).show(1)\n",
        "lastfm_model_test4.associationRules.sort(desc('lift')).show(1)"
      ],
      "metadata": {
        "colab": {
          "base_uri": "https://localhost:8080/"
        },
        "id": "0RkomaVd7gLb",
        "outputId": "87505e7a-c833-4374-ab07-23952726a31b"
      },
      "execution_count": null,
      "outputs": [
        {
          "output_type": "stream",
          "name": "stdout",
          "text": [
            "+----------------+------------+-------------------+-----------------+--------------------+\n",
            "|      antecedent|  consequent|         confidence|             lift|             support|\n",
            "+----------------+------------+-------------------+-----------------+--------------------+\n",
            "|[massive attack]|[portishead]|0.33676092544987146|5.076469234335137|0.021917349841057386|\n",
            "+----------------+------------+-------------------+-----------------+--------------------+\n",
            "only showing top 1 row\n",
            "\n",
            "+----------+----------+------------------+------------------+--------------------+\n",
            "|antecedent|consequent|        confidence|              lift|             support|\n",
            "+----------+----------+------------------+------------------+--------------------+\n",
            "|   [jay-z]|     [nas]|0.3548387096774194|14.626696329254727|0.010122134850259328|\n",
            "+----------+----------+------------------+------------------+--------------------+\n",
            "only showing top 1 row\n",
            "\n",
            "+--------------------+---------------+------------------+------------------+--------------------+\n",
            "|          antecedent|     consequent|        confidence|              lift|             support|\n",
            "+--------------------+---------------+------------------+------------------+--------------------+\n",
            "|[above & beyond, ...|[blank & jones]|0.8666666666666667|132.82222222222222|0.001087502091350...|\n",
            "+--------------------+---------------+------------------+------------------+--------------------+\n",
            "only showing top 1 row\n",
            "\n",
            "+----------+----------+------------------+------------------+--------------------+\n",
            "|antecedent|consequent|        confidence|              lift|             support|\n",
            "+----------+----------+------------------+------------------+--------------------+\n",
            "|    [t.i.]|[the game]|0.3303964757709251|24.379996736824932|0.006274050527020244|\n",
            "+----------+----------+------------------+------------------+--------------------+\n",
            "only showing top 1 row\n",
            "\n"
          ]
        }
      ]
    },
    {
      "cell_type": "markdown",
      "source": [
        "** **"
      ],
      "metadata": {
        "id": "Oe0x2UuLB34W"
      }
    },
    {
      "cell_type": "markdown",
      "source": [
        "**TASK 7: We gauge the performance of each of the 4 FP-Growth testmodels by running the training data on each model**"
      ],
      "metadata": {
        "id": "FVGJ2TvPB67d"
      }
    },
    {
      "cell_type": "code",
      "source": [
        "music_prediction_output_1 = lastfm_model_test1.transform(lastfm_df_train_data)\n",
        "music_prediction_output_2 = lastfm_model_test2.transform(lastfm_df_train_data)\n",
        "music_prediction_output_3 = lastfm_model_test3.transform(lastfm_df_train_data)\n",
        "music_prediction_output_4 = lastfm_model_test4.transform(lastfm_df_train_data)\n"
      ],
      "metadata": {
        "id": "0ZdHbDG58sbT"
      },
      "execution_count": null,
      "outputs": []
    },
    {
      "cell_type": "markdown",
      "source": [
        "** **"
      ],
      "metadata": {
        "id": "M50zA9KoiQIv"
      }
    },
    {
      "cell_type": "markdown",
      "source": [
        "**Each of the 4 Music prediction model was tested using user id = 154 to find out the music recommendation accuracy and performance**"
      ],
      "metadata": {
        "id": "JrdaeqZ8htRe"
      }
    },
    {
      "cell_type": "code",
      "source": [
        "music_prediction_output_1.filter(music_prediction_output_1.user == 154).show(50,False)\n",
        "music_prediction_output_2.filter(music_prediction_output_2.user == 154).show(50,False)\n",
        "music_prediction_output_3.filter(music_prediction_output_3.user == 154).show(50,False)\n",
        "music_prediction_output_4.filter(music_prediction_output_4.user == 154).show(50,False)"
      ],
      "metadata": {
        "colab": {
          "base_uri": "https://localhost:8080/"
        },
        "id": "3U2ONxHC82H7",
        "outputId": "518145df-7956-4e1d-d8ad-8cedc446c80f"
      },
      "execution_count": null,
      "outputs": [
        {
          "output_type": "stream",
          "name": "stdout",
          "text": [
            "+----+---+-------+-------------------------------------------------------------------------------------------+----------+\n",
            "|user|sex|country|music_artist_playlist                                                                      |prediction|\n",
            "+----+---+-------+-------------------------------------------------------------------------------------------+----------+\n",
            "|154 |m  |Poland |[mgmt, damian marley, erykah badu, matisyahu, snoop dogg, the prodigy, 50 cent, bob marley]|[]        |\n",
            "+----+---+-------+-------------------------------------------------------------------------------------------+----------+\n",
            "\n",
            "+----+---+-------+-------------------------------------------------------------------------------------------+----------------------------------+\n",
            "|user|sex|country|music_artist_playlist                                                                      |prediction                        |\n",
            "+----+---+-------+-------------------------------------------------------------------------------------------+----------------------------------+\n",
            "|154 |m  |Poland |[mgmt, damian marley, erykah badu, matisyahu, snoop dogg, the prodigy, 50 cent, bob marley]|[coldplay, the killers, radiohead]|\n",
            "+----+---+-------+-------------------------------------------------------------------------------------------+----------------------------------+\n",
            "\n",
            "+----+---+-------+-------------------------------------------------------------------------------------------+--------------------+\n",
            "|user|sex|country|music_artist_playlist                                                                      |prediction          |\n",
            "+----+---+-------+-------------------------------------------------------------------------------------------+--------------------+\n",
            "|154 |m  |Poland |[mgmt, damian marley, erykah badu, matisyahu, snoop dogg, the prodigy, 50 cent, bob marley]|[eminem, kanye west]|\n",
            "+----+---+-------+-------------------------------------------------------------------------------------------+--------------------+\n",
            "\n",
            "+----+---+-------+-------------------------------------------------------------------------------------------+-------------------------------------------------------------------------+\n",
            "|user|sex|country|music_artist_playlist                                                                      |prediction                                                               |\n",
            "+----+---+-------+-------------------------------------------------------------------------------------------+-------------------------------------------------------------------------+\n",
            "|154 |m  |Poland |[mgmt, damian marley, erykah badu, matisyahu, snoop dogg, the prodigy, 50 cent, bob marley]|[t.i., eminem, kanye west, coldplay, the killers, radiohead, 2pac, jay-z]|\n",
            "+----+---+-------+-------------------------------------------------------------------------------------------+-------------------------------------------------------------------------+\n",
            "\n"
          ]
        }
      ]
    }
  ]
}